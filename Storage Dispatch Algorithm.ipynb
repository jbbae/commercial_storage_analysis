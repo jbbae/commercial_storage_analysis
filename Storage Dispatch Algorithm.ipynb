{
 "cells": [
  {
   "cell_type": "markdown",
   "metadata": {},
   "source": [
    "# Energy Storage Dispatch Algorithm\n",
    "In this notebook, we'll lay out the algorithm for our **energy storage dispatch** in commercial buildings.\n",
    "\n",
    "**Key variables:**\n",
    "* Load Profile\n",
    "* Power Prices\n",
    "* Battery Characteristics\n",
    "\n",
    "**Key outputs:**\n",
    "* Price Savings\n",
    "\n",
    "From which we'll derive -\n",
    "* Dispatch Characteristics\n",
    "* Modified Load Shape\n",
    "\n"
   ]
  },
  {
   "cell_type": "code",
   "execution_count": null,
   "metadata": {},
   "outputs": [],
   "source": [
    "import numpy as np\n",
    "import pandas as pd\n",
    "import matplotlib.pyplot as plt\n",
    "import seaborn as sns\n",
    "%matplotlib inline\n",
    "\n",
    "#Read Load Forecast\n",
    "df_load = pd.read_csv('./path/to/csv/here.csv')\n",
    "df_load.head()\n",
    "\n",
    "#Read Power Price forecast\n",
    "df_price = pd.read_csv('./path/to/csv/here.csv')\n",
    "df_price.head()\n",
    "\n",
    "#Read Battery Characteristics\n",
    "df_battery = pd.read_csv('./path/to/csv/here.csv')\n",
    "df_battery.head()\n",
    "\n"
   ]
  },
  {
   "cell_type": "markdown",
   "metadata": {},
   "source": [
    "# Combining Data and Dispatch\n",
    "In this section we'll be dipatching the battery to minimize the cost to the building.\n",
    "\n",
    "**Battery Decision Options**\n",
    "Charge\n",
    "Discharge\n",
    "\n",
    "**Logic**\n",
    "Minimize Load(n) x PowerPrice(n) + Load(n+1) x PowerPrice(n+1) + Load (n+2) x PowerPrice(n+2)\n",
    "\n",
    "Such that\n",
    "Battery Charge <= Maximum Battery Capacity\n",
    "Battery Charge >= 0\n"
   ]
  }
 ],
 "metadata": {
  "kernelspec": {
   "display_name": "Python 3",
   "language": "python",
   "name": "python3"
  },
  "language_info": {
   "codemirror_mode": {
    "name": "ipython",
    "version": 3
   },
   "file_extension": ".py",
   "mimetype": "text/x-python",
   "name": "python",
   "nbconvert_exporter": "python",
   "pygments_lexer": "ipython3",
   "version": "3.7.3"
  }
 },
 "nbformat": 4,
 "nbformat_minor": 2
}
